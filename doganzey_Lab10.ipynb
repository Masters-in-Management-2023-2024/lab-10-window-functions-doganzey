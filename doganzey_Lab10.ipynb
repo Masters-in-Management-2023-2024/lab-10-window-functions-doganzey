{
  "cells": [
    {
      "cell_type": "markdown",
      "metadata": {
        "id": "HnwfkmfZDfoa"
      },
      "source": [
        "# OPAN5505 Lab 3 Assignment\n",
        "\n",
        "## Background\n",
        "\n",
        "You've been engaged by the Federal Aviation Administration to perform an analysis on \"strike\" data. A \"strike\" refers to when an aircraft and an object within the air (typically wildlife) collide."
      ]
    },
    {
      "cell_type": "markdown",
      "metadata": {
        "id": "qY2PB9l1Dfod"
      },
      "source": [
        "## Prepare your environment\n",
        "\n",
        "You will need the `polars` package for this assignment. We'll also use `datetime` for date handling."
      ]
    },
    {
      "cell_type": "code",
      "execution_count": 1,
      "metadata": {
        "id": "yfpPzJUXDfoe"
      },
      "outputs": [],
      "source": [
        "# Import required libraries\n",
        "import polars as pl\n",
        "import datetime"
      ]
    },
    {
      "cell_type": "markdown",
      "metadata": {
        "id": "kEquSPjPDfof"
      },
      "source": [
        "## Load your dataset\n",
        "\n",
        "Read the `faa_strikes.txt` dataset into Polars. Name the resulting DataFrame `strikes`."
      ]
    },
    {
      "cell_type": "code",
      "execution_count": 11,
      "metadata": {
        "id": "j_YlCnsEDfof"
      },
      "outputs": [],
      "source": [
        "# Read the faa_strikes.txt data\n",
        "\n",
        "strikes = pl.read_csv(\n",
        "    \"https://raw.githubusercontent.com/Masters-in-Management-2023-2024/lab-10-window-functions-doganzey/main/data/faa_strikes.txt\",\n",
        "    separator=\"\\t\",\n",
        "    has_header=True,\n",
        ")\n"
      ]
    },
    {
      "cell_type": "markdown",
      "metadata": {
        "id": "5BTnQNirDfog"
      },
      "source": [
        "## Question 1: Running total of strikes by day through 2013\n",
        "\n",
        "You are interested in seeing the running total of strikes over time (`Collision Date and Time`) on a daily basis. Using the `strikes` dataframe, create a new column that removes the time information but keeps the date information from the `Collision Date and Time` column (call this new field `date`). Next, aggregate the `Number of Strikes` by day (call this new field `daily_strikes`). Sort the data in ascending order by `date`. Then, create the running total of `daily_strikes` (name the new field `strikes_cumulative`) and filter to only the records **up to and including** the `date` of 2013-12-31. Name the resulting data frame `running_total_strikes`.\n",
        "\n",
        "*Please place a Python code block and code below. The output should be a DataFrame. You must use a window function to receive credit on this question.*"
      ]
    },
    {
      "cell_type": "code",
      "execution_count": 22,
      "metadata": {
        "colab": {
          "base_uri": "https://localhost:8080/",
          "height": 443
        },
        "id": "t4h6A0WeDfog",
        "outputId": "3035fcdf-999f-47e0-bc1b-aef1744b21a7"
      },
      "outputs": [
        {
          "output_type": "execute_result",
          "data": {
            "text/plain": [
              "shape: (4_776, 3)\n",
              "┌────────────┬───────────────┬────────────────────┐\n",
              "│ date       ┆ daily_strikes ┆ strikes_cumulative │\n",
              "│ ---        ┆ ---           ┆ ---                │\n",
              "│ date       ┆ i64           ┆ i64                │\n",
              "╞════════════╪═══════════════╪════════════════════╡\n",
              "│ 2000-01-02 ┆ 1             ┆ 1                  │\n",
              "│ 2000-01-03 ┆ 2             ┆ 3                  │\n",
              "│ 2000-01-05 ┆ 3             ┆ 6                  │\n",
              "│ 2000-01-06 ┆ 1             ┆ 7                  │\n",
              "│ 2000-01-08 ┆ 4             ┆ 11                 │\n",
              "│ …          ┆ …             ┆ …                  │\n",
              "│ 2013-12-27 ┆ 6             ┆ 24096              │\n",
              "│ 2013-12-28 ┆ 1             ┆ 24097              │\n",
              "│ 2013-12-29 ┆ 2             ┆ 24099              │\n",
              "│ 2013-12-30 ┆ 4             ┆ 24103              │\n",
              "│ 2013-12-31 ┆ 6             ┆ 24109              │\n",
              "└────────────┴───────────────┴────────────────────┘"
            ],
            "text/html": [
              "<div><style>\n",
              ".dataframe > thead > tr,\n",
              ".dataframe > tbody > tr {\n",
              "  text-align: right;\n",
              "  white-space: pre-wrap;\n",
              "}\n",
              "</style>\n",
              "<small>shape: (4_776, 3)</small><table border=\"1\" class=\"dataframe\"><thead><tr><th>date</th><th>daily_strikes</th><th>strikes_cumulative</th></tr><tr><td>date</td><td>i64</td><td>i64</td></tr></thead><tbody><tr><td>2000-01-02</td><td>1</td><td>1</td></tr><tr><td>2000-01-03</td><td>2</td><td>3</td></tr><tr><td>2000-01-05</td><td>3</td><td>6</td></tr><tr><td>2000-01-06</td><td>1</td><td>7</td></tr><tr><td>2000-01-08</td><td>4</td><td>11</td></tr><tr><td>&hellip;</td><td>&hellip;</td><td>&hellip;</td></tr><tr><td>2013-12-27</td><td>6</td><td>24096</td></tr><tr><td>2013-12-28</td><td>1</td><td>24097</td></tr><tr><td>2013-12-29</td><td>2</td><td>24099</td></tr><tr><td>2013-12-30</td><td>4</td><td>24103</td></tr><tr><td>2013-12-31</td><td>6</td><td>24109</td></tr></tbody></table></div>"
            ]
          },
          "metadata": {},
          "execution_count": 22
        }
      ],
      "source": [
        "# Parse Collision Date and Time as datetime, then extract date\n",
        "am = strikes.with_columns(\n",
        "    pl.col(\"Collision Date and Time\")\n",
        "    .str.strptime(pl.Datetime, \"%Y-%m-%dT%H:%M:%SZ\", strict=False)\n",
        "    .dt.date()\n",
        "    .alias(\"date\")\n",
        ")\n",
        "\n",
        "# Aggregate daily strikes, sort, and compute running total\n",
        "running_total_strikes = (\n",
        "    am\n",
        "    .group_by(\"date\", maintain_order=True)\n",
        "    .agg(pl.col(\"Number of Strikes\").sum().alias(\"daily_strikes\"))\n",
        "    .sort(\"date\")\n",
        "    .with_columns(\n",
        "        pl.col(\"daily_strikes\").cum_sum().alias(\"strikes_cumulative\")\n",
        "    )\n",
        "    .filter(pl.col(\"date\") <= pl.datetime(2013, 12, 31))  # filter up to 2013-12-31\n",
        ")\n",
        "running_total_strikes"
      ]
    },
    {
      "cell_type": "markdown",
      "metadata": {
        "id": "hFOVOygWDfog"
      },
      "source": [
        "## Question 2: States with the third highest financial cost\n",
        "\n",
        "The FAA is interested in the financial cost of strikes for each `Origin State`. Using the `strikes` dataframe: first, sum `Cost: Total $` by `Origin State` (name the resulting column `damage`) then `rank` these states in order of which state had the most financial `damage` (name the new column with rank information, `ranking`). Next, filter to show the row with the third highest `ranking`. Use a window function to answer this question. Name the resulting dataframe `damage_state`.\n",
        "\n",
        "*Please place a Python code block and code below. The output should be a DataFrame. You must use a window function to receive credit on this question.*"
      ]
    },
    {
      "cell_type": "code",
      "execution_count": 27,
      "metadata": {
        "colab": {
          "base_uri": "https://localhost:8080/"
        },
        "id": "R766P1zQDfoh",
        "outputId": "9538c8df-3ba9-49c8-ef71-e1fbfd776d54"
      },
      "outputs": [
        {
          "output_type": "stream",
          "name": "stdout",
          "text": [
            "shape: (1, 3)\n",
            "┌──────────────┬──────────┬─────────┐\n",
            "│ Origin State ┆ damage   ┆ ranking │\n",
            "│ ---          ┆ ---      ┆ ---     │\n",
            "│ str          ┆ i64      ┆ u32     │\n",
            "╞══════════════╪══════════╪═════════╡\n",
            "│ California   ┆ 29671432 ┆ 3       │\n",
            "└──────────────┴──────────┴─────────┘\n"
          ]
        }
      ],
      "source": [
        "# Your code here\n",
        "\n",
        "\n",
        "# Aggregate total damage by Origin State\n",
        "damage_state = (\n",
        "    strikes\n",
        "    .group_by(\"Origin State\")\n",
        "    .agg(\n",
        "        pl.col(\"Cost: Total $\").sum().alias(\"damage\")\n",
        "    )\n",
        "    .with_columns(\n",
        "        pl.col(\"damage\")\n",
        "        .rank(method=\"min\", descending=True)   # rank states by damage, highest = rank 1\n",
        "        .alias(\"ranking\")\n",
        "    )\n",
        "    .filter(pl.col(\"ranking\") == 3)   # keep only the third highest\n",
        ")\n",
        "\n",
        "print(damage_state)"
      ]
    },
    {
      "cell_type": "markdown",
      "metadata": {
        "id": "75MUIqtuDfoh"
      },
      "source": [
        "## Question 3: What are the second costliest Species Groups for each Aircraft Type?\n",
        "\n",
        "The FAA wants to know if some species groups are more dangerous to particular types of aircraft. Using the `strikes` dataframe: first, sum financial damage (`Cost: Total $`) information by `Aircraft: Type` and `Wildlife: Species Group` (name the new field `damage`). Rank the rows within each `Aircraft: Type` based on the greatest amount of `damage`; when performing the ranking function, name the new column `ranking`. Return the rows that represent the `Wildlife: Species Group` values that caused the **second most** financial `damage` to each `Aircraft: Type`. Name the resulting dataframe `type_species`.\n",
        "\n",
        "*Please place a Python code block and code below. The output should be a DataFrame. You must use a ranking function to receive credit on this question.*"
      ]
    },
    {
      "cell_type": "code",
      "execution_count": 31,
      "metadata": {
        "colab": {
          "base_uri": "https://localhost:8080/"
        },
        "id": "xo1-2BcqDfoi",
        "outputId": "4f91b950-a0a9-4e8b-de7b-ade3016791b1"
      },
      "outputs": [
        {
          "output_type": "stream",
          "name": "stdout",
          "text": [
            "shape: (3, 4)\n",
            "┌────────────────┬─────────────────────────┬──────────┬─────────┐\n",
            "│ Aircraft: Type ┆ Wildlife: Species Group ┆ damage   ┆ ranking │\n",
            "│ ---            ┆ ---                     ┆ ---      ┆ ---     │\n",
            "│ str            ┆ str                     ┆ i64      ┆ u32     │\n",
            "╞════════════════╪═════════════════════════╪══════════╪═════════╡\n",
            "│ Airplane       ┆ Kites, Hawks, Eagles    ┆ 48989287 ┆ 2       │\n",
            "│ NA             ┆ Vultures                ┆ 56227    ┆ 2       │\n",
            "│ Helicopter     ┆ Vultures                ┆ 116748   ┆ 2       │\n",
            "└────────────────┴─────────────────────────┴──────────┴─────────┘\n"
          ]
        }
      ],
      "source": [
        "# Your code here\n",
        "\n",
        "type_species = (\n",
        "    strikes\n",
        "    .group_by([\"Aircraft: Type\", \"Wildlife: Species Group\"])\n",
        "    .agg(\n",
        "        pl.col(\"Cost: Total $\").sum().alias(\"damage\")\n",
        "    )\n",
        "    .with_columns(\n",
        "        pl.col(\"damage\")\n",
        "        .rank(method=\"dense\", descending=True)\n",
        "        .over(\"Aircraft: Type\")\n",
        "        .alias(\"ranking\")\n",
        "    )\n",
        "    .filter(pl.col(\"ranking\") == 2)\n",
        ")\n",
        "\n",
        "print(type_species)"
      ]
    },
    {
      "cell_type": "markdown",
      "metadata": {
        "id": "A1plYitpDfoi"
      },
      "source": [
        "## Question 4: Which days had the greatest positive jump in strikes?\n",
        "\n",
        "The FAA wants to investigate which days had the largest increase in strikes from the previous day. Using the `strikes` dataframe: sum the `Number of Strikes` measure by day (note: not by day and time). You can use a similar technique from Question 1 to create a new column from `Collision Date and Time` without time information and with date information (name this column `date`). Next, compute the previous day's strikes using a window function (name the new column `previous_day`), and calculate the difference of strikes between the current day and the previous day (name the new column `delta_strikes`). Sort the resulting data by `delta_strikes` in descending order to find which days had the highest increase of strikes from the previous day. Name the resulting dataframe `greatest_strike_increase`.\n",
        "\n",
        "**Hint:** This code is more involved that other exercises, so I will explicitly name the steps to answer the question.\n",
        "\n",
        "1. Start with the `strikes` data frame\n",
        "2. Create a new column called `date` which removes the time information in the `Collision Date and Time` column\n",
        "3. Sum the `Number of Strikes` by `date`, and name the new column `daily_strikes`\n",
        "4. Sort by the `date` column in ascending order\n",
        "5. Create a new column called `previous_day` to calculate what the `daily_strikes` were in the previous day\n",
        "6. Create a new column called `delta_strikes` which subtracts `previous_day` from `daily_strikes`\n",
        "7. Sort in descending order by `delta_strikes`\n",
        "\n",
        "*Please place a Python code block and code below. The output should be a DataFrame. You must use a window function to receive credit on this question.*"
      ]
    },
    {
      "cell_type": "code",
      "execution_count": 37,
      "metadata": {
        "colab": {
          "base_uri": "https://localhost:8080/"
        },
        "id": "CuhDBysXDfoi",
        "outputId": "6d899175-25da-4807-f9a5-edc2301dbb82"
      },
      "outputs": [
        {
          "output_type": "stream",
          "name": "stdout",
          "text": [
            "shape: (5_285, 4)\n",
            "┌────────────┬───────────────┬──────────────┬───────────────┐\n",
            "│ date       ┆ daily_strikes ┆ previous_day ┆ delta_strikes │\n",
            "│ ---        ┆ ---           ┆ ---          ┆ ---           │\n",
            "│ date       ┆ i64           ┆ i64          ┆ i64           │\n",
            "╞════════════╪═══════════════╪══════════════╪═══════════════╡\n",
            "│ 2000-01-02 ┆ 1             ┆ null         ┆ null          │\n",
            "│ 2010-10-29 ┆ 25            ┆ 7            ┆ 18            │\n",
            "│ 2014-08-25 ┆ 25            ┆ 8            ┆ 17            │\n",
            "│ 2012-06-28 ┆ 21            ┆ 5            ┆ 16            │\n",
            "│ 2009-07-07 ┆ 21            ┆ 7            ┆ 14            │\n",
            "│ …          ┆ …             ┆ …            ┆ …             │\n",
            "│ 2012-06-29 ┆ 6             ┆ 21           ┆ -15           │\n",
            "│ 2012-10-14 ┆ 5             ┆ 20           ┆ -15           │\n",
            "│ 2014-08-26 ┆ 10            ┆ 25           ┆ -15           │\n",
            "│ 2014-10-29 ┆ 5             ┆ 24           ┆ -19           │\n",
            "│ 2013-08-20 ┆ 8             ┆ 28           ┆ -20           │\n",
            "└────────────┴───────────────┴──────────────┴───────────────┘\n"
          ]
        }
      ],
      "source": [
        "strikes = strikes.with_columns(\n",
        "    pl.col(\"Collision Date and Time\")\n",
        "    .str.strptime(pl.Datetime, \"%Y-%m-%dT%H:%M:%SZ\", strict=False)\n",
        "    .dt.date()\n",
        "    .alias(\"date\")\n",
        ")\n",
        "\n",
        "daily_strikes_df = (\n",
        "    strikes\n",
        "    .group_by(\"date\")\n",
        "    .agg(pl.col(\"Number of Strikes\").sum().alias(\"daily_strikes\"))\n",
        "    .sort(\"date\")\n",
        ")\n",
        "\n",
        "greatest_strike_increase = daily_strikes_df.with_columns(\n",
        "    pl.col(\"daily_strikes\").shift(1).alias(\"previous_day\")\n",
        ")\n",
        "\n",
        "greatest_strike_increase = greatest_strike_increase.with_columns(\n",
        "    (pl.col(\"daily_strikes\") - pl.col(\"previous_day\")).alias(\"delta_strikes\")\n",
        ")\n",
        "\n",
        "greatest_strike_increase = greatest_strike_increase.sort(\"delta_strikes\", descending=True)\n",
        "\n",
        "print(greatest_strike_increase)"
      ]
    },
    {
      "cell_type": "markdown",
      "metadata": {
        "id": "1IaRs_tcDfoj"
      },
      "source": [
        "## Question 5: Which single day had the greatest increase in strikes for each `Aircraft: Type`?\n",
        "\n",
        "FAA was interested in the exercise from the last question but now wants to determine the largest delta between days for each `Aircraft: Type`. What are the days that had largest positive change in strikes for each `Aircraft: Type`? In order to answer this question, you will need to perform the exercise from Question 4, but this time include a grouping by `Aircraft: Type`. After grouping by `Aircraft: Type`, add a column called `ranking` and use a window function to determine the day with the largest increase in strikes from the previous day. Name the resulting data frame `greatest_strike_increase_type`\n",
        "\n",
        "NOTE: Helicopters are not struck with a high frequency and will not show up in your analysis; this is fine."
      ]
    },
    {
      "cell_type": "code",
      "execution_count": 40,
      "metadata": {
        "colab": {
          "base_uri": "https://localhost:8080/"
        },
        "id": "xZ4EWMuhDfoj",
        "outputId": "3d0556ae-2cf8-41aa-d612-dc2bc4988c32"
      },
      "outputs": [
        {
          "output_type": "stream",
          "name": "stdout",
          "text": [
            "shape: (6, 6)\n",
            "┌────────────────┬────────────┬───────────────┬──────────────┬───────────────┬─────────┐\n",
            "│ Aircraft: Type ┆ date       ┆ daily_strikes ┆ previous_day ┆ delta_strikes ┆ ranking │\n",
            "│ ---            ┆ ---        ┆ ---           ┆ ---          ┆ ---           ┆ ---     │\n",
            "│ str            ┆ date       ┆ i64           ┆ i64          ┆ i64           ┆ u32     │\n",
            "╞════════════════╪════════════╪═══════════════╪══════════════╪═══════════════╪═════════╡\n",
            "│ Airplane       ┆ 2014-08-25 ┆ 25            ┆ 8            ┆ 17            ┆ 1       │\n",
            "│ Helicopter     ┆ 2010-07-21 ┆ 2             ┆ 1            ┆ 1             ┆ 1       │\n",
            "│ Helicopter     ┆ 2012-11-02 ┆ 2             ┆ 1            ┆ 1             ┆ 1       │\n",
            "│ Helicopter     ┆ 2013-10-28 ┆ 2             ┆ 1            ┆ 1             ┆ 1       │\n",
            "│ Helicopter     ┆ 2014-08-14 ┆ 2             ┆ 1            ┆ 1             ┆ 1       │\n",
            "│ NA             ┆ 2014-08-04 ┆ 5             ┆ 1            ┆ 4             ┆ 1       │\n",
            "└────────────────┴────────────┴───────────────┴──────────────┴───────────────┴─────────┘\n"
          ]
        }
      ],
      "source": [
        "# Your code here\n",
        "\n",
        "strikes = strikes.with_columns(\n",
        "    pl.col(\"Collision Date and Time\")\n",
        "    .str.strptime(pl.Datetime, \"%Y-%m-%dT%H:%M:%SZ\", strict=False)\n",
        "    .dt.date()\n",
        "    .alias(\"date\")\n",
        ")\n",
        "\n",
        "daily_strikes_by_type = (\n",
        "    strikes\n",
        "    .group_by([\"Aircraft: Type\", \"date\"])\n",
        "    .agg(pl.col(\"Number of Strikes\").sum().alias(\"daily_strikes\"))\n",
        "    .sort([\"Aircraft: Type\", \"date\"])\n",
        ")\n",
        "\n",
        "daily_strikes_by_type = daily_strikes_by_type.with_columns(\n",
        "    pl.col(\"daily_strikes\")\n",
        "    .shift(1)\n",
        "    .over(\"Aircraft: Type\")\n",
        "    .alias(\"previous_day\")\n",
        ")\n",
        "\n",
        "daily_strikes_by_type = daily_strikes_by_type.with_columns(\n",
        "    (pl.col(\"daily_strikes\") - pl.col(\"previous_day\")).alias(\"delta_strikes\")\n",
        ")\n",
        "\n",
        "greatest_strike_increase_type = daily_strikes_by_type.with_columns(\n",
        "    pl.col(\"delta_strikes\")\n",
        "    .rank(method=\"dense\", descending=True)\n",
        "    .over(\"Aircraft: Type\")\n",
        "    .alias(\"ranking\")\n",
        ")\n",
        "\n",
        "greatest_strike_increase_type = greatest_strike_increase_type.filter(pl.col(\"ranking\") == 1)\n",
        "\n",
        "print(greatest_strike_increase_type)\n"
      ]
    },
    {
      "cell_type": "code",
      "source": [],
      "metadata": {
        "id": "_G2KGHNSJTtb"
      },
      "execution_count": null,
      "outputs": []
    }
  ],
  "metadata": {
    "kernelspec": {
      "display_name": "Python 3",
      "language": "python",
      "name": "python3"
    },
    "language_info": {
      "codemirror_mode": {
        "name": "ipython",
        "version": 3
      },
      "file_extension": ".py",
      "mimetype": "text/x-python",
      "name": "python",
      "nbconvert_exporter": "python",
      "pygments_lexer": "ipython3",
      "version": "3.8.0"
    },
    "colab": {
      "provenance": []
    }
  },
  "nbformat": 4,
  "nbformat_minor": 0
}